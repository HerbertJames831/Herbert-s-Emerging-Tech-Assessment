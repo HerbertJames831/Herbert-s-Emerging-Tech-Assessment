{
 "cells": [
  {
   "cell_type": "markdown",
   "id": "ac61a4ad-6fbc-40f4-96ff-ad08a1eabd36",
   "metadata": {},
   "source": [
    "# Task 1 - Third-Order Letter Approximation Model\n",
    "\n",
    "## Introduction\n",
    "\n",
    "A trigram model will be created based on five English books in this notebook(trigrams.ipynb). The five English books that will be used for this task are:\n",
    "\n",
    "1. The Great Gatsby by F. Scott Fitzgerald\n",
    "2. The Odyssey by Homer\n",
    "3. Sense and Sensibility by Jane Austen\n",
    "4. The Tempest by William Shakespeare\n",
    "5. The Sign of the Four by Arthur Conan Doyle\n",
    "\n",
    "The steps that are involved during this process is: \n",
    "\n",
    "1. All characters except ASCII letters(both uppercase and lowercase), spaces and full stops will be removed\n",
    "\n",
    "2. All letters will be changed to uppercase\n",
    "\n",
    "3. A trigram model will be created which will count the amount of times each sequence of three characters(each trigram) emerges\n",
    "\n",
    "\n",
    "The final outcome is a dictionary that links each book with its corresponding trigram frequency model.\n",
    "\n",
    "\n",
    "\n",
    "\n",
    "\n",
    "\n",
    "\n",
    "\n"
   ]
  },
  {
   "cell_type": "markdown",
   "id": "b434b820-85f6-47d0-a891-6ce8e897e376",
   "metadata": {},
   "source": [
    "## Setting Up Imports and Constants\n",
    "\n",
    "1. The os module is beneficial because methods that interact with the operating system are provided for example managing directories and files\n",
    "\n",
    "2. The defaultdict is known as a container in Python and in the collections module, the defaultdict is defined. The defaultdict is useful for assigning a default value automatically to a key that is non-existent in the dictionary. This is advantageous for counting the amount of times each trigram appears; without manually having to verify if keys are present.\n",
    "\n",
    "3. The BOOKS_DIRECTORY Constant is utilized to indicate the folder that is storing the books \n",
    "\n"
   ]
  },
  {
   "cell_type": "code",
   "execution_count": null,
   "id": "49f3df4a-106c-43a5-b396-8728f0f70f09",
   "metadata": {},
   "outputs": [],
   "source": [
    "import os\n",
    "from collections import defaultdict\n",
    "\n",
    "BOOKS_DIRECTORY = \"books/\" "
   ]
  },
  {
   "cell_type": "markdown",
   "id": "e7b50b07-677e-4e4d-ab51-cc68bbb1a65f",
   "metadata": {},
   "source": [
    "## Cleaning Text \n",
    "\n",
    "1. The text is preprocessed as a way of removing unnecessary characters by the  clean_book_text function.\n",
    "   \n",
    "2. This makes sure that only full stops, spaces and letters remain in the text.\n",
    "   \n",
    "3. All letters in the cleaned text are changed to uppercase to maintain consistency.\n",
    "\n",
    "\n",
    "\n",
    "\n"
   ]
  },
  {
   "cell_type": "code",
   "execution_count": null,
   "id": "6e36ebb9-6ebc-40aa-8eeb-378f511d91df",
   "metadata": {},
   "outputs": [],
   "source": [
    "def clean_book_text(book_title):\n",
    "    book_file_path = os.path.join(BOOKS_DIRECTORY, book_title)\n",
    "    try:\n",
    "        with open(book_file_path, 'r', encoding='utf-8' as file:\n",
    "            book_text = file.read()\n",
    "\n",
    "            book_text = ''.join(character if character.isalpha() or character == ' ' or char == '.' else '' for character in book_text)\n",
    "            return book_text.upper()\n",
    "    except FileNotFoundError:\n",
    "        print(f\"Error: Sorry the file {book_title} was not found in the directory!\")\n",
    "        return None"
   ]
  },
  {
   "cell_type": "markdown",
   "id": "5d8ec1f1-cde0-40eb-ab13-52beed790a1a",
   "metadata": {},
   "source": [
    "## Creating Trigrams\n",
    "Sequences of three consecutive characters which are also known as trigrams from the preprocessed text is extracted by the create_trigrams function. A dictionary is utilized to track the frequency of each trigram."
   ]
  },
  {
   "cell_type": "code",
   "execution_count": 4,
   "id": "3f08058c-9bf6-46dc-82a0-b9ca89887d04",
   "metadata": {},
   "outputs": [],
   "source": [
    "def create_trigrams(book_text):\n",
    "    trigram_frequencies = defaultdict(int)\n",
    "    for i in range(len(book_text) - 2):\n",
    "        trigram = book_text[i:i+3]\n",
    "        trigram_frequencies[trigram] += 1\n",
    "        return trigram_frequencies\n",
    "        \n",
    "    \n",
    " "
   ]
  },
  {
   "cell_type": "code",
   "execution_count": null,
   "id": "c438dab3-8865-426e-9dbd-b7a24559308f",
   "metadata": {},
   "outputs": [],
   "source": []
  }
 ],
 "metadata": {
  "kernelspec": {
   "display_name": "Python 3 (ipykernel)",
   "language": "python",
   "name": "python3"
  },
  "language_info": {
   "codemirror_mode": {
    "name": "ipython",
    "version": 3
   },
   "file_extension": ".py",
   "mimetype": "text/x-python",
   "name": "python",
   "nbconvert_exporter": "python",
   "pygments_lexer": "ipython3",
   "version": "3.12.4"
  }
 },
 "nbformat": 4,
 "nbformat_minor": 5
}
