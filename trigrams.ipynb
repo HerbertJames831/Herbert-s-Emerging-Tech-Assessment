{
 "cells": [
  {
   "cell_type": "markdown",
   "id": "ac61a4ad-6fbc-40f4-96ff-ad08a1eabd36",
   "metadata": {},
   "source": [
    "# Task 1 - Third-Order Letter Approximation Model\n",
    "\n",
    "## Introduction\n",
    "\n",
    "A trigram model will be created based on five English books in this notebook(trigrams.ipynb). The five English books that will be used for this task are:\n",
    "\n",
    "1. The Great Gatsby by F. Scott Fitzgerald\n",
    "2. The Odyssey by Homer\n",
    "3. Sense and Sensibility by Jane Austen\n",
    "4. The Tempest by William Shakespeare\n",
    "5. The Sign of the Four by Arthur Conan Doyle\n",
    "\n",
    "The steps that are involved during this process is: \n",
    "\n",
    "1. All characters except ASCII letters(both uppercase and lowercase), spaces and full stops will be removed\n",
    "\n",
    "2. All letters will be changed to uppercase\n",
    "\n",
    "3. A trigram model will be created which will count the amount of times each sequence of three characters(each trigram) emerges\n",
    "\n",
    "\n",
    "The final outcome is a dictionary that links each book with its corresponding trigram frequency model.\n",
    "\n",
    "\n",
    "\n",
    "\n",
    "\n",
    "\n",
    "\n",
    "\n"
   ]
  },
  {
   "cell_type": "code",
   "execution_count": null,
   "id": "a97bdf42-8704-41f1-a794-0ddcebc45d38",
   "metadata": {},
   "outputs": [],
   "source": []
  }
 ],
 "metadata": {
  "kernelspec": {
   "display_name": "Python 3 (ipykernel)",
   "language": "python",
   "name": "python3"
  },
  "language_info": {
   "codemirror_mode": {
    "name": "ipython",
    "version": 3
   },
   "file_extension": ".py",
   "mimetype": "text/x-python",
   "name": "python",
   "nbconvert_exporter": "python",
   "pygments_lexer": "ipython3",
   "version": "3.12.4"
  }
 },
 "nbformat": 4,
 "nbformat_minor": 5
}
